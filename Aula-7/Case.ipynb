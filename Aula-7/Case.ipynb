{
 "cells": [
  {
   "cell_type": "markdown",
   "id": "dc0f6758-2f17-4984-895f-8f568ff69087",
   "metadata": {},
   "source": [
    "# Exercício de Orientação a Objetos com Herança, Polimorfismo e Encapsulamento\n",
    "- Neste exercício, você irá criar um sistema simples de gerenciamento de veículos, utilizando os conceitos de orientação a objetos, herança, polimorfismo e encapsulamento em Python.\n",
    "- O sistema irá lidar com dois tipos de veículos: carros e motos.\n",
    "\n",
    "Classe Base: Veiculo\n",
    "    \r\n",
    "Crie uma classe chamada Veiculo, que terá os seguintes atributos privados:\r\n",
    "\r\n",
    "__marca: uma string que representa a marca do veículo.\r\n",
    "__modelo: uma string que representa o modelo do veículo.\r\n",
    "A classe Veiculo deve possuir os seguintes métodos:\r\n",
    "\r\n",
    "Um método construtor __init__() que recebe como parâmetros a marca e o modelo do veículo, e inicializa os atributos correspondentes.\r\n",
    "Métodos getters para acessar os valores dos atributos privados.\r\n",
    "Um método que retorna uma string descrevendo o veículo no formato \"Marca: <marca>, Modelo: <modelo>\".\r\n",
    "Classe Filha: Carro\r\n",
    "Crie uma classe chamada Carro, que herda da classe Veiculo. A classe Carro deve possuir os seguintes atributos privados adicionais:\r\n",
    "\r\n",
    "__portas: um inteiro que representa o número de portas do carro.\r\n",
    "A classe Carro deve sobrescrever o método que descreve a classe para incluir também o número de portas do carro.\r\n",
    "\r\n",
    "Classe Filha: Moto\r\n",
    "Crie uma classe chamada Moto, que herda da classe Veiculo. A classe Moto deve possuir os seguintes atributos privados adicionais:\r\n",
    "\r\n",
    "__cilindradas: um inteiro que representa as cilindradas da moto.\r\n",
    "A classe Moto deve sobrescrever o método que descreve a classe para incluir também as cilindradas da moto.\r\n",
    "\r\n",
    "Implementação e Teste\r\n",
    "No programa principal (main), crie pelo menos um objeto de cada classe (um carro e uma moto) com informações relevantes. Em seguida, armazene esses objetos em uma lista e, utilizando um loop, exiba a descrição de cada veículo na lista.\r\n",
    "\r\n",
    "Nota: Lembre-se de respeitar os princípios de encapsulamento ao acessar os atributos privados das classes usando os métodos getters.\r\n",
    "\r\n",
    "Exemplo de Saída Esperada:\r\n",
    "\r\n",
    "yaml\r\n",
    "Copy code\r\n",
    "Carro - Marca: Toyota, Modelo: Corolla, Portas: 4\r\n",
    "Moto - Marca: Honda, Modelo: CBR500R, Cilindradas: 500\r"
   ]
  },
  {
   "cell_type": "code",
   "execution_count": 4,
   "id": "c1ec96bc-88af-4aaf-bc0a-c98dbae84f01",
   "metadata": {},
   "outputs": [
    {
     "name": "stdout",
     "output_type": "stream",
     "text": [
      "Carro - Marca: Toyota, Modelo: Corolla , Portas: 4\n",
      "Moto - Marca: Honda, Modelo: CBR500R,Cilindradas: 500\n"
     ]
    }
   ],
   "source": [
    "from Moto import Moto\n",
    "from Carro import Carro\n",
    "\n",
    "carro = Carro(\"Toyota\",\"Corolla\",4)\n",
    "moto = Moto(\"Honda\",\"CBR500R\",500)\n",
    "\n",
    "veiculo = [carro, moto]\n",
    "\n",
    "for vl in veiculo:\n",
    "    print(vl)"
   ]
  }
 ],
 "metadata": {
  "kernelspec": {
   "display_name": "Python 3 (ipykernel)",
   "language": "python",
   "name": "python3"
  },
  "language_info": {
   "codemirror_mode": {
    "name": "ipython",
    "version": 3
   },
   "file_extension": ".py",
   "mimetype": "text/x-python",
   "name": "python",
   "nbconvert_exporter": "python",
   "pygments_lexer": "ipython3",
   "version": "3.10.6"
  }
 },
 "nbformat": 4,
 "nbformat_minor": 5
}
