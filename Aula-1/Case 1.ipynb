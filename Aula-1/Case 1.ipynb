{
 "cells": [
  {
   "cell_type": "markdown",
   "id": "e3e16b9a-96b4-4400-85bd-5282053916d4",
   "metadata": {},
   "source": [
    "# CASE 1 - Aula 1\n",
    "\n",
    "* Criar um programa de controle de estoque de produtos, onde será possível adicionar novos produtos, atualizar a quantidade em estoque, visualizar o estoque atual e remover produtos."
   ]
  },
  {
   "cell_type": "code",
   "execution_count": 7,
   "id": "22d86420-d9ea-49d2-8aa0-a5ca62013cbb",
   "metadata": {},
   "outputs": [],
   "source": [
    "class Estoque:\n",
    "    def __init__(self):\n",
    "        self.estoque = {}\n",
    "        \n",
    "    def add_produto(self, produto, quantidade):\n",
    "        self.estoque[produto] = self.estoque.get(produto, 0) + quantidade\n",
    "\n",
    "    def rmv_produto(self, produto):\n",
    "        if produto in self.estoque:\n",
    "            del self.estoque[produto]\n",
    "            return True\n",
    "        else:\n",
    "            return False\n",
    "\n",
    "    def update_estoque(self, produto, quantidade):\n",
    "        if produto in self.estoque:\n",
    "            self.estoque[produto] += quantidade\n",
    "        else:\n",
    "            print(f\"Produto '{produto}' não encontrado no estoque.\")\n",
    "\n",
    "    def ver_estoque(self):\n",
    "        print(\"Estoque:\")\n",
    "        for produto, quantidade in self.estoque.items():\n",
    "            print(f\"{produto}: {quantidade} unidades\")\n",
    "\n",
    "\n"
   ]
  },
  {
   "cell_type": "code",
   "execution_count": 8,
   "id": "f8a5bb3d-e161-44e5-8a43-e3317ae8ad1b",
   "metadata": {},
   "outputs": [],
   "source": [
    "estoque = Estoque()\n",
    "Estoque.add_produto(estoque, \"salsicha\",10)\n",
    "Estoque.add_produto(estoque, \"peito de frango\", 20)"
   ]
  },
  {
   "cell_type": "code",
   "execution_count": 9,
   "id": "766198a8-8c50-4460-b9da-35d97538c14f",
   "metadata": {},
   "outputs": [
    {
     "name": "stdout",
     "output_type": "stream",
     "text": [
      "--- Sistema de Estoque Lojas Cel ---\n",
      "\n",
      "Opções:\n",
      "1 - Adicionar Produto\n",
      "2 - Remover Produto\n",
      "3 - Atualizar Estoque\n",
      "4 - Visualizar Estoque\n",
      "0 - Sair\n"
     ]
    },
    {
     "name": "stdin",
     "output_type": "stream",
     "text": [
      "Escolha uma das opção:  0\n"
     ]
    },
    {
     "name": "stdout",
     "output_type": "stream",
     "text": [
      "Saindo...\n"
     ]
    }
   ],
   "source": [
    "print(\"--- Sistema de Estoque Lojas Cel ---\")\n",
    "while 1:\n",
    "    \n",
    "    print(\"\\nOpções:\")\n",
    "    print(\"1 - Adicionar Produto\")\n",
    "    print(\"2 - Remover Produto\")\n",
    "    print(\"3 - Atualizar Estoque\")\n",
    "    print(\"4 - Visualizar Estoque\")\n",
    "    print(\"0 - Sair\")\n",
    "\n",
    "    opt = int(input(\"Escolha uma das opção: \"))\n",
    "\n",
    "    if opt == 1:\n",
    "        produto = input(\"Digite o nome do produto: \").lower()\n",
    "        quantidade = int(input(\"Digite a quantidade: \"))\n",
    "        estoque.add_produto(produto, quantidade)\n",
    "        print(f\"{quantidade} unidades do produto '{produto}' adicionadas ao estoque.\")\n",
    "\n",
    "    elif opt == 2:\n",
    "        produto = input(\"Digite o nome do produto a ser removido: \").lower()\n",
    "        if estoque.rmv_produto(produto):\n",
    "            print(f\"Produto '{produto}' removido do estoque.\")\n",
    "        else:\n",
    "            print(f\"Produto '{produto}' não cadastrado no estoque.\")\n",
    "\n",
    "    elif opt == 3:\n",
    "        produto = input(\"Digite o nome do produto a ser atualizado: \").lower()\n",
    "        quantidade = int(input(\"Digite a quantidade a ser adicionada ou quantidade negativa para subtrair: \"))\n",
    "        estoque.update_estoque(produto, quantidade)\n",
    "\n",
    "    elif opt == 4:\n",
    "        estoque.ver_estoque()\n",
    "\n",
    "    elif opt == 0:\n",
    "        print(\"Saindo...\")\n",
    "        break\n",
    "\n",
    "    else:\n",
    "        print(\"Opção inválida. Digite novamente.\")"
   ]
  }
 ],
 "metadata": {
  "kernelspec": {
   "display_name": "Python 3 (ipykernel)",
   "language": "python",
   "name": "python3"
  },
  "language_info": {
   "codemirror_mode": {
    "name": "ipython",
    "version": 3
   },
   "file_extension": ".py",
   "mimetype": "text/x-python",
   "name": "python",
   "nbconvert_exporter": "python",
   "pygments_lexer": "ipython3",
   "version": "3.10.6"
  }
 },
 "nbformat": 4,
 "nbformat_minor": 5
}
