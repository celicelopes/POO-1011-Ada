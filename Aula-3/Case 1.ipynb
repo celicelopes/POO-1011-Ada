{
 "cells": [
  {
   "cell_type": "markdown",
   "id": "5d3145a5",
   "metadata": {},
   "source": [
    "# Case 1\n",
    "\n",
    "    * Como criar módulos contendo cliente e conta bancária, agrupá-los em um pacote e importá-los."
   ]
  },
  {
   "cell_type": "code",
   "execution_count": 1,
   "id": "24f2f423",
   "metadata": {},
   "outputs": [],
   "source": [
    "import Banco.ClienteBanco as cliente\n",
    "import Banco.ContaBanco as conta"
   ]
  },
  {
   "cell_type": "code",
   "execution_count": 2,
   "id": "cb4cb1e7",
   "metadata": {},
   "outputs": [
    {
     "name": "stdout",
     "output_type": "stream",
     "text": [
      "Celice Lopes - CPF: 123456789 - Banco: Agencia: 2132 - Conta: 12312156 - Saldo: 1000\n"
     ]
    }
   ],
   "source": [
    "cliente_init = cliente.Cliente(\"Celice\", \"Lopes\", 123456789)\n",
    "conta_init = conta.Conta(2132, 12312156, 1000 )\n",
    "\n",
    "conta_init.linkar_cliente(cliente_init)\n",
    "\n",
    "print(cliente_init)"
   ]
  }
 ],
 "metadata": {
  "kernelspec": {
   "display_name": "Python 3 (ipykernel)",
   "language": "python",
   "name": "python3"
  },
  "language_info": {
   "codemirror_mode": {
    "name": "ipython",
    "version": 3
   },
   "file_extension": ".py",
   "mimetype": "text/x-python",
   "name": "python",
   "nbconvert_exporter": "python",
   "pygments_lexer": "ipython3",
   "version": "3.10.12"
  }
 },
 "nbformat": 4,
 "nbformat_minor": 5
}
