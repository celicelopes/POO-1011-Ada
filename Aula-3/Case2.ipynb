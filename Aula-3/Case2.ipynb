{
 "cells": [
  {
   "cell_type": "markdown",
   "id": "76a34805-99e3-4f55-ac17-fb92c22c403c",
   "metadata": {},
   "source": [
    "# Case 2\n",
    "\n",
    "* Crie um pacote personalizado para matemática que contenha seu módulo de frações e um módulo para formas geométricas que implemente classes para Retângulo, Quadrado, Triangulo, Circulo.\n",
    "\n",
    "https://araquelexplica-te.pt/wp-content/uploads/2020/01/%C3%81reas-de-figuras-planas-1536x1152.png"
   ]
  },
  {
   "cell_type": "code",
   "execution_count": 2,
   "id": "fdc580c1-9df8-421a-855e-9c4a9d6b368a",
   "metadata": {},
   "outputs": [
    {
     "name": "stdout",
     "output_type": "stream",
     "text": [
      "Area circulo 314.1592653589793\n",
      "Area triangulo 10.5\n",
      "Area Quadrado 12\n",
      "Area Retangulo 35\n",
      "Soma Fracao 10/4\n"
     ]
    }
   ],
   "source": [
    "import Math.Area.Circulo as circ\n",
    "import Math.Area.Quadrado as quad\n",
    "import Math.Area.Retangulo as ret\n",
    "import Math.Area.Triangulo as tri\n",
    "import Math.Fracao as frac\n",
    "\n",
    "circulo = circ.Circulo(10)\n",
    "triangulo = tri.Triangulo(3,7)\n",
    "quadrado = quad.Quadrado(6)\n",
    "retangulo = ret.Retangulo(5,7)\n",
    "fracao = frac.Fracao(5,4)\n",
    "\n",
    "print(\"Area circulo\",circulo.area())\n",
    "print(\"Area triangulo\",triangulo.area())\n",
    "print(\"Area Quadrado\",quadrado.area())\n",
    "print(\"Area Retangulo\",retangulo.area())\n",
    "print(\"Soma Fracao\", fracao.soma(fracao))\n",
    "\n"
   ]
  }
 ],
 "metadata": {
  "kernelspec": {
   "display_name": "Python 3 (ipykernel)",
   "language": "python",
   "name": "python3"
  },
  "language_info": {
   "codemirror_mode": {
    "name": "ipython",
    "version": 3
   },
   "file_extension": ".py",
   "mimetype": "text/x-python",
   "name": "python",
   "nbconvert_exporter": "python",
   "pygments_lexer": "ipython3",
   "version": "3.10.6"
  }
 },
 "nbformat": 4,
 "nbformat_minor": 5
}
