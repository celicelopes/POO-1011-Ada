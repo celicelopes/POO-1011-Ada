{
 "cells": [
  {
   "cell_type": "markdown",
   "id": "cc763edc-ec09-42ad-9478-9c3308cccb70",
   "metadata": {},
   "source": [
    "# Estudo de Caso 1:\n",
    "\n",
    "* Como criar módulos contendo cliente e conta bancária, agrupá-los em um pacote e importá-los."
   ]
  },
  {
   "cell_type": "code",
   "execution_count": null,
   "id": "c1996e65-ba8b-4e5f-8aee-3f19f77996d9",
   "metadata": {},
   "outputs": [],
   "source": []
  }
 ],
 "metadata": {
  "kernelspec": {
   "display_name": "Python 3 (ipykernel)",
   "language": "python",
   "name": "python3"
  },
  "language_info": {
   "codemirror_mode": {
    "name": "ipython",
    "version": 3
   },
   "file_extension": ".py",
   "mimetype": "text/x-python",
   "name": "python",
   "nbconvert_exporter": "python",
   "pygments_lexer": "ipython3",
   "version": "3.10.6"
  }
 },
 "nbformat": 4,
 "nbformat_minor": 5
}
