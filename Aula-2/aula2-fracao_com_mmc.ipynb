{
 "cells": [
  {
   "cell_type": "code",
   "execution_count": 12,
   "id": "c6b48ea5",
   "metadata": {},
   "outputs": [],
   "source": [
    "class Fracao:\n",
    "    def __init__(self, numerador, denominador):\n",
    "        self.numerador = numerador\n",
    "        self.denominador = denominador\n",
    "    \n",
    "    def calcula_mmc(num1, num2):\n",
    "        if num1 > num2:\n",
    "            maior = num1\n",
    "        else:\n",
    "            maior = num2\n",
    "        while True:\n",
    "            if maior % num1 == 0 and maior % num2 == 0:\n",
    "                return maior\n",
    "            else:\n",
    "                maior += 1\n",
    "                \n",
    "    def calcula_numerador(mmc, denominador, numerador):\n",
    "        return (mmc / denominador) * numerador\n",
    "\n",
    "    def soma(self, fracao):\n",
    "        if self.denominador == fracao.denominador:\n",
    "            soma = self.numerador + fracao.numerador\n",
    "            return f\"{soma}/{fracao.denominador}\"\n",
    "        else:\n",
    "            print(self.denominador)\n",
    "            print(fracao.denominador)\n",
    "            \n",
    "            mmc = self.calcula_mmc(self.denominador, fracao.denominador)\n",
    "            numerador_1 = self.calcula_numerador(mmc, self.denominador, self.numerador)\n",
    "            numerador_2 = self.calcula_numerador(mmc, fracao.denominador, fracao.numerador)\n",
    "            return f\"{numerador_1 + numrador_2}/{mmc}\"\n",
    "    \n",
    "    def subtracao(self, fracao):\n",
    "        if self.denominador == fracao.denominador:\n",
    "            subtracao = self.numerador - fracao.numerador\n",
    "            return f\"{subtracao}/{fracao.denominador}\"\n",
    "        else:\n",
    "            mmc = self.calcula_mmc(self.denominador, fracao.denominador)\n",
    "            numerador_1 = self.calcula_numerador(mmc, self.denominador, self.numerador)\n",
    "            numerador_2 = self.calcula_numerador(mmc, self.denominador, self.numerador)\n",
    "            return f\"{numerador_1 + numrador_2}/{mmc}\"\n",
    "    \n",
    "    def multiplicacao(self, fracao):\n",
    "        return f\"{self.numerador * fracao.numerador}/{self.denominador * fracao.denominador}\"\n",
    "    \n",
    "    def divisao(self, fracao):\n",
    "        return f\"{self.numerador * fracao.denominador}/{self.denominador * fracao.numerador}\"\n"
   ]
  },
  {
   "cell_type": "code",
   "execution_count": 13,
   "id": "4c4b01d2",
   "metadata": {},
   "outputs": [
    {
     "name": "stdout",
     "output_type": "stream",
     "text": [
      "3\n",
      "2\n"
     ]
    },
    {
     "ename": "TypeError",
     "evalue": "Fracao.calcula_mmc() takes 2 positional arguments but 3 were given",
     "output_type": "error",
     "traceback": [
      "\u001b[0;31m---------------------------------------------------------------------------\u001b[0m",
      "\u001b[0;31mTypeError\u001b[0m                                 Traceback (most recent call last)",
      "Cell \u001b[0;32mIn[13], line 3\u001b[0m\n\u001b[1;32m      1\u001b[0m fracao_1 \u001b[38;5;241m=\u001b[39m Fracao(\u001b[38;5;241m5\u001b[39m, \u001b[38;5;241m3\u001b[39m)\n\u001b[1;32m      2\u001b[0m fracao_2 \u001b[38;5;241m=\u001b[39m Fracao(\u001b[38;5;241m3\u001b[39m, \u001b[38;5;241m2\u001b[39m)\n\u001b[0;32m----> 3\u001b[0m \u001b[38;5;28mprint\u001b[39m(\u001b[43mfracao_1\u001b[49m\u001b[38;5;241;43m.\u001b[39;49m\u001b[43msoma\u001b[49m\u001b[43m(\u001b[49m\u001b[43mfracao_2\u001b[49m\u001b[43m)\u001b[49m)\n\u001b[1;32m      4\u001b[0m \u001b[38;5;28mprint\u001b[39m(fracao_1\u001b[38;5;241m.\u001b[39msubtracao(fracao_2))\n\u001b[1;32m      5\u001b[0m \u001b[38;5;28mprint\u001b[39m(fracao_1\u001b[38;5;241m.\u001b[39mmultiplicacao(fracao_2))\n",
      "Cell \u001b[0;32mIn[12], line 28\u001b[0m, in \u001b[0;36mFracao.soma\u001b[0;34m(self, fracao)\u001b[0m\n\u001b[1;32m     25\u001b[0m \u001b[38;5;28mprint\u001b[39m(\u001b[38;5;28mself\u001b[39m\u001b[38;5;241m.\u001b[39mdenominador)\n\u001b[1;32m     26\u001b[0m \u001b[38;5;28mprint\u001b[39m(fracao\u001b[38;5;241m.\u001b[39mdenominador)\n\u001b[0;32m---> 28\u001b[0m mmc \u001b[38;5;241m=\u001b[39m \u001b[38;5;28;43mself\u001b[39;49m\u001b[38;5;241;43m.\u001b[39;49m\u001b[43mcalcula_mmc\u001b[49m\u001b[43m(\u001b[49m\u001b[38;5;28;43mself\u001b[39;49m\u001b[38;5;241;43m.\u001b[39;49m\u001b[43mdenominador\u001b[49m\u001b[43m,\u001b[49m\u001b[43m \u001b[49m\u001b[43mfracao\u001b[49m\u001b[38;5;241;43m.\u001b[39;49m\u001b[43mdenominador\u001b[49m\u001b[43m)\u001b[49m\n\u001b[1;32m     29\u001b[0m numerador_1 \u001b[38;5;241m=\u001b[39m \u001b[38;5;28mself\u001b[39m\u001b[38;5;241m.\u001b[39mcalcula_numerador(mmc, \u001b[38;5;28mself\u001b[39m\u001b[38;5;241m.\u001b[39mdenominador, \u001b[38;5;28mself\u001b[39m\u001b[38;5;241m.\u001b[39mnumerador)\n\u001b[1;32m     30\u001b[0m numerador_2 \u001b[38;5;241m=\u001b[39m \u001b[38;5;28mself\u001b[39m\u001b[38;5;241m.\u001b[39mcalcula_numerador(mmc, fracao\u001b[38;5;241m.\u001b[39mdenominador, fracao\u001b[38;5;241m.\u001b[39mnumerador)\n",
      "\u001b[0;31mTypeError\u001b[0m: Fracao.calcula_mmc() takes 2 positional arguments but 3 were given"
     ]
    }
   ],
   "source": [
    "fracao_1 = Fracao(5, 3)\n",
    "fracao_2 = Fracao(3, 2)\n",
    "print(fracao_1.soma(fracao_2))\n",
    "print(fracao_1.subtracao(fracao_2))\n",
    "print(fracao_1.multiplicacao(fracao_2))\n",
    "print(fracao_1.divisao(fracao_2))"
   ]
  }
 ],
 "metadata": {
  "kernelspec": {
   "display_name": "Python 3 (ipykernel)",
   "language": "python",
   "name": "python3"
  },
  "language_info": {
   "codemirror_mode": {
    "name": "ipython",
    "version": 3
   },
   "file_extension": ".py",
   "mimetype": "text/x-python",
   "name": "python",
   "nbconvert_exporter": "python",
   "pygments_lexer": "ipython3",
   "version": "3.10.6"
  }
 },
 "nbformat": 4,
 "nbformat_minor": 5
}
