{
 "cells": [
  {
   "cell_type": "code",
   "execution_count": 1,
   "id": "eedbba27",
   "metadata": {},
   "outputs": [],
   "source": [
    "class Fracao:\n",
    "    def __init__(self, numerador, denominador):\n",
    "        self.numerador = numerador\n",
    "        self.denominador = denominador\n",
    "    \n",
    "    def calcula_mmc(num1, num2):\n",
    "        if num1 > num2:\n",
    "            maior = num1\n",
    "        else:\n",
    "            maior = num2\n",
    "        while True:\n",
    "            if maior % num1 == 0 and maior % num2 == 0:\n",
    "                return maior\n",
    "            else:\n",
    "                maior += 1\n",
    "                \n",
    "    def calcula_numerador(mmc, denominador, numerador):\n",
    "        return (mmc / denominador) * numerador\n",
    "\n",
    "    def soma(self, fracao):\n",
    "        if self.denominador == fracao.denominador:\n",
    "            soma = self.numerador + fracao.numerador\n",
    "            return f\"{soma}/{fracao.denominador}\"\n",
    "        else:\n",
    "            return f\"{(self.numerador*fracao.denominador) + (self.denominador*fracao.numerador)}/{self.denominador* fracao.denominador}\"\n",
    "    \n",
    "    def subtracao(self, fracao):\n",
    "        if self.denominador == fracao.denominador:\n",
    "            subtracao = self.numerador - fracao.numerador\n",
    "            return f\"{subtracao}/{fracao.denominador}\"\n",
    "        else:\n",
    "            return f\"{(self.numerador*fracao.denominador) - (self.denominador*fracao.numerador)}/{self.denominador* fracao.denominador}\"\n",
    "    \n",
    "    def multiplicacao(self, fracao):\n",
    "        return f\"{self.numerador * fracao.numerador}/{self.denominador * fracao.denominador}\"\n",
    "    \n",
    "    def divisao(self, fracao):\n",
    "        return f\"{self.numerador * fracao.denominador}/{self.denominador * fracao.numerador}\"\n"
   ]
  },
  {
   "cell_type": "code",
   "execution_count": 3,
   "id": "bed49578",
   "metadata": {},
   "outputs": [
    {
     "name": "stdout",
     "output_type": "stream",
     "text": [
      "35/6\n",
      "5/6\n",
      "50/6\n",
      "20/15\n"
     ]
    }
   ],
   "source": [
    "fracao_1 = Fracao(10, 3)\n",
    "fracao_2 = Fracao(5, 2)\n",
    "print(fracao_1.soma(fracao_2))\n",
    "print(fracao_1.subtracao(fracao_2))\n",
    "print(fracao_1.multiplicacao(fracao_2))\n",
    "print(fracao_1.divisao(fracao_2))"
   ]
  }
 ],
 "metadata": {
  "kernelspec": {
   "display_name": "Python 3 (ipykernel)",
   "language": "python",
   "name": "python3"
  },
  "language_info": {
   "codemirror_mode": {
    "name": "ipython",
    "version": 3
   },
   "file_extension": ".py",
   "mimetype": "text/x-python",
   "name": "python",
   "nbconvert_exporter": "python",
   "pygments_lexer": "ipython3",
   "version": "3.10.6"
  }
 },
 "nbformat": 4,
 "nbformat_minor": 5
}
