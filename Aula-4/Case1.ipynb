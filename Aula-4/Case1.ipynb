{
 "cells": [
  {
   "cell_type": "markdown",
   "id": "77c4402b-01c6-4790-abff-dfa49f78971f",
   "metadata": {},
   "source": [
    "# Estudo de Caso 1:\n",
    "    * Como evitar que as frações das aulas anteriores recebam denominador igual a 0\n"
   ]
  },
  {
   "cell_type": "code",
   "execution_count": 6,
   "id": "3bc76592-266f-4664-9b2b-3f6073b70ea1",
   "metadata": {},
   "outputs": [
    {
     "ename": "AttributeError",
     "evalue": "'str' object has no attribute 'visualizar'",
     "output_type": "error",
     "traceback": [
      "\u001b[0;31m---------------------------------------------------------------------------\u001b[0m",
      "\u001b[0;31mAttributeError\u001b[0m                            Traceback (most recent call last)",
      "Cell \u001b[0;32mIn[6], line 8\u001b[0m\n\u001b[1;32m      4\u001b[0m f2 \u001b[38;5;241m=\u001b[39m Fracao\u001b[38;5;241m.\u001b[39mFracao(\u001b[38;5;241m3\u001b[39m,\u001b[38;5;241m4\u001b[39m)\n\u001b[1;32m      6\u001b[0m resultado \u001b[38;5;241m=\u001b[39m f1\u001b[38;5;241m.\u001b[39msoma(f2)\n\u001b[0;32m----> 8\u001b[0m \u001b[38;5;28mprint\u001b[39m(\u001b[43mresultado\u001b[49m\u001b[38;5;241;43m.\u001b[39;49m\u001b[43mvisualizar\u001b[49m)\n",
      "\u001b[0;31mAttributeError\u001b[0m: 'str' object has no attribute 'visualizar'"
     ]
    }
   ],
   "source": [
    "import case1 as Fracao\n",
    "\n",
    "f1 = Fracao.Fracao(5,8)\n",
    "f2 = Fracao.Fracao(3,4)\n",
    "\n",
    "resultado = f1.soma(f2)\n",
    "\n",
    "print(resultado.visualizar)\n"
   ]
  }
 ],
 "metadata": {
  "kernelspec": {
   "display_name": "Python 3 (ipykernel)",
   "language": "python",
   "name": "python3"
  },
  "language_info": {
   "codemirror_mode": {
    "name": "ipython",
    "version": 3
   },
   "file_extension": ".py",
   "mimetype": "text/x-python",
   "name": "python",
   "nbconvert_exporter": "python",
   "pygments_lexer": "ipython3",
   "version": "3.10.6"
  }
 },
 "nbformat": 4,
 "nbformat_minor": 5
}
