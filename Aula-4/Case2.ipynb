{
 "cells": [
  {
   "cell_type": "markdown",
   "id": "2863a766-06be-444d-ae53-df337834f9a1",
   "metadata": {},
   "source": [
    "# Estudo de Caso 2:\n",
    "    * Como garantir que clientes da aula anterior não possuam múltiplas contas bancárias, contas não possuam múltiplos clientes e clientes sempre possuam CPFs válidos.\n",
    "\n",
    "    Validador CPF usado https://github.com/FelippoDev/Validador_CPF/blob/master/cpf_validador.py"
   ]
  },
  {
   "cell_type": "code",
   "execution_count": 1,
   "id": "04b6bdea-e308-42c5-8ebb-2e1bb53c1f4f",
   "metadata": {},
   "outputs": [
    {
     "ename": "TypeError",
     "evalue": "'NoneType' object is not callable",
     "output_type": "error",
     "traceback": [
      "\u001b[0;31m---------------------------------------------------------------------------\u001b[0m",
      "\u001b[0;31mTypeError\u001b[0m                                 Traceback (most recent call last)",
      "Cell \u001b[0;32mIn[1], line 4\u001b[0m\n\u001b[1;32m      1\u001b[0m \u001b[38;5;28;01mfrom\u001b[39;00m \u001b[38;5;21;01mBanco\u001b[39;00m \u001b[38;5;28;01mimport\u001b[39;00m ClienteBanco \u001b[38;5;28;01mas\u001b[39;00m cliente\n\u001b[1;32m      2\u001b[0m \u001b[38;5;28;01mfrom\u001b[39;00m \u001b[38;5;21;01mBanco\u001b[39;00m \u001b[38;5;28;01mimport\u001b[39;00m ContaBanco \u001b[38;5;28;01mas\u001b[39;00m conta\n\u001b[0;32m----> 4\u001b[0m cliente \u001b[38;5;241m=\u001b[39m \u001b[43mcliente\u001b[49m\u001b[38;5;241;43m.\u001b[39;49m\u001b[43mCliente\u001b[49m\u001b[43m(\u001b[49m\u001b[38;5;124;43m\"\u001b[39;49m\u001b[38;5;124;43mCelice\u001b[39;49m\u001b[38;5;124;43m\"\u001b[39;49m\u001b[43m,\u001b[49m\u001b[43m \u001b[49m\u001b[38;5;124;43m\"\u001b[39;49m\u001b[38;5;124;43mLopes\u001b[39;49m\u001b[38;5;124;43m\"\u001b[39;49m\u001b[43m,\u001b[49m\u001b[38;5;124;43m\"\u001b[39;49m\u001b[38;5;124;43m123.456.789-00\u001b[39;49m\u001b[38;5;124;43m\"\u001b[39;49m\u001b[43m)\u001b[49m\n",
      "File \u001b[0;32m~/documents/POO-1011-Ada/Aula-4/Banco/ClienteBanco.py:7\u001b[0m, in \u001b[0;36mCliente.__init__\u001b[0;34m(self, nome, sobrenome, cpf)\u001b[0m\n\u001b[1;32m      5\u001b[0m \u001b[38;5;28mself\u001b[39m\u001b[38;5;241m.\u001b[39m__nome \u001b[38;5;241m=\u001b[39m nome\n\u001b[1;32m      6\u001b[0m \u001b[38;5;28mself\u001b[39m\u001b[38;5;241m.\u001b[39m__sobrenome \u001b[38;5;241m=\u001b[39m sobrenome\n\u001b[0;32m----> 7\u001b[0m \u001b[38;5;28mself\u001b[39m\u001b[38;5;241m.\u001b[39m__cpf \u001b[38;5;241m=\u001b[39m \u001b[38;5;28;43mself\u001b[39;49m\u001b[38;5;241;43m.\u001b[39;49m\u001b[43mset_cpf\u001b[49m\u001b[43m(\u001b[49m\u001b[43mcpf\u001b[49m\u001b[43m)\u001b[49m\n\u001b[1;32m      8\u001b[0m \u001b[38;5;28mself\u001b[39m\u001b[38;5;241m.\u001b[39m__conta \u001b[38;5;241m=\u001b[39m []\n",
      "\u001b[0;31mTypeError\u001b[0m: 'NoneType' object is not callable"
     ]
    }
   ],
   "source": [
    "from Banco import ClienteBanco as cliente\n",
    "from Banco import ContaBanco as conta\n",
    "\n",
    "cliente = cliente.Cliente(\"Celice\", \"Lopes\",\"123.456.789-00\")"
   ]
  },
  {
   "cell_type": "code",
   "execution_count": null,
   "id": "d25ee7fa-f20e-4c89-8570-d6415e78a0d9",
   "metadata": {},
   "outputs": [],
   "source": []
  }
 ],
 "metadata": {
  "kernelspec": {
   "display_name": "Python 3 (ipykernel)",
   "language": "python",
   "name": "python3"
  },
  "language_info": {
   "codemirror_mode": {
    "name": "ipython",
    "version": 3
   },
   "file_extension": ".py",
   "mimetype": "text/x-python",
   "name": "python",
   "nbconvert_exporter": "python",
   "pygments_lexer": "ipython3",
   "version": "3.10.6"
  }
 },
 "nbformat": 4,
 "nbformat_minor": 5
}
