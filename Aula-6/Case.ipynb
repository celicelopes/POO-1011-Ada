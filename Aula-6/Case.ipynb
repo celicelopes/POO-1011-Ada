{
 "cells": [
  {
   "cell_type": "markdown",
   "id": "f64e53f4-3166-4960-8f96-0366a1f7a937",
   "metadata": {},
   "source": [
    "# Estudo de Caso:\n",
    "    * Como utilizar a própria classe cliente de aulas anteriores para armazenar, buscar e acessar todos os objetos cliente instanciados.\n"
   ]
  },
  {
   "cell_type": "code",
   "execution_count": 6,
   "id": "4a331536-8066-47c4-8433-9e1e6d804f8d",
   "metadata": {},
   "outputs": [
    {
     "name": "stdout",
     "output_type": "stream",
     "text": [
      "Busca cliente na base: Luis\n",
      "Busca cliente na base: Celice\n",
      "Busca cliente na base: Nome nao encontrado\n"
     ]
    }
   ],
   "source": [
    "import Banco.ClienteBanco as cliente\n",
    "\n",
    "cliente1 = cliente.Cliente(\"Luis\", \"Bueno\", 12135435410)\n",
    "cliente2 = cliente.Cliente(\"Celice\", \"Lopes\", 1216354231)\n",
    "\n",
    "print(\"Busca cliente na base:\", cliente.Cliente.busca(\"Luis\"))\n",
    "print(\"Busca cliente na base:\", cliente.Cliente.busca(\"Celice\"))\n",
    "print(\"Busca cliente na base:\", cliente.Cliente.busca(\"Carlos\"))"
   ]
  },
  {
   "cell_type": "code",
   "execution_count": null,
   "id": "557ef5a1-6ad5-47bf-a92a-51bf40afb123",
   "metadata": {},
   "outputs": [],
   "source": []
  }
 ],
 "metadata": {
  "kernelspec": {
   "display_name": "Python 3 (ipykernel)",
   "language": "python",
   "name": "python3"
  },
  "language_info": {
   "codemirror_mode": {
    "name": "ipython",
    "version": 3
   },
   "file_extension": ".py",
   "mimetype": "text/x-python",
   "name": "python",
   "nbconvert_exporter": "python",
   "pygments_lexer": "ipython3",
   "version": "3.10.6"
  }
 },
 "nbformat": 4,
 "nbformat_minor": 5
}
