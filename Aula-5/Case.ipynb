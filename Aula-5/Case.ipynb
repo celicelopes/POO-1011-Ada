{
 "cells": [
  {
   "cell_type": "markdown",
   "id": "adaf57fc-ee1e-4eea-adf9-3495d2877ecf",
   "metadata": {},
   "source": [
    "# Estudo de Caso:\n",
    "    * Como permitir o uso dos operadores aritméticos e de comparação do Python (+, -, *, /, >, <, ==, !=, <=, >=) entre objetos fração e imprimir os objetos corretamente utilizando print(objeto).\n"
   ]
  },
  {
   "cell_type": "code",
   "execution_count": 2,
   "id": "24653050-0ff7-485e-9470-04775f158591",
   "metadata": {},
   "outputs": [
    {
     "name": "stdout",
     "output_type": "stream",
     "text": [
      "\n",
      "---Operacoes de Comparacao---\n",
      "Maior que: True\n",
      "Maior ou igual: True\n",
      "Menor que: False\n",
      "Menor ou igual: False\n",
      "Igual: False\n",
      "Diferente: True\n",
      "\n",
      "---Operacoes matematicas---\n",
      "soma : 35/20\n",
      "subtracao : 5/20\n",
      "multiplicacao : 15/20\n",
      "divisao : 20/15\n"
     ]
    }
   ],
   "source": [
    "import Fracao as frac\n",
    "\n",
    "fracao1 = frac.Fracao(5,5)\n",
    "fracao2 = frac.Fracao(3,4)\n",
    "\n",
    "resultado_soma = fracao1 + fracao2\n",
    "resultado_sub = fracao1 - fracao2\n",
    "resultado_mult = fracao1 * fracao2\n",
    "resultado_div = fracao1 / fracao2\n",
    "\n",
    "print(\"\\n---Operacoes de Comparacao---\")\n",
    "print(\"Maior que:\", fracao1 > fracao2)\n",
    "print(\"Maior ou igual:\", fracao1 >= fracao2)\n",
    "print(\"Menor que:\", fracao1 < fracao2)\n",
    "print(\"Menor ou igual:\", fracao1 <= fracao2)\n",
    "print(\"Igual:\", fracao1 == fracao2)\n",
    "print(\"Diferente:\", fracao1 != fracao2)\n",
    "\n",
    "print(\"\\n---Operacoes matematicas---\")\n",
    "print(\"soma :\", resultado_soma.visualizar)\n",
    "print(\"subtracao :\", resultado_sub.visualizar)\n",
    "print(\"multiplicacao :\", resultado_mult.visualizar)\n",
    "print(\"divisao :\", resultado_div.visualizar)"
   ]
  }
 ],
 "metadata": {
  "kernelspec": {
   "display_name": "Python 3 (ipykernel)",
   "language": "python",
   "name": "python3"
  },
  "language_info": {
   "codemirror_mode": {
    "name": "ipython",
    "version": 3
   },
   "file_extension": ".py",
   "mimetype": "text/x-python",
   "name": "python",
   "nbconvert_exporter": "python",
   "pygments_lexer": "ipython3",
   "version": "3.10.6"
  }
 },
 "nbformat": 4,
 "nbformat_minor": 5
}
